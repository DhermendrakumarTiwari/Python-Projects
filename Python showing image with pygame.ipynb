{
 "cells": [
  {
   "cell_type": "code",
   "execution_count": 2,
   "id": "48c30707",
   "metadata": {},
   "outputs": [],
   "source": [
    "import pygame\n",
    "pygame.init()\n",
    "screen=pygame.display.set_mode((500,500))\n",
    "done=False\n",
    "clock=pygame.time.Clock()\n",
    "while  not done:\n",
    "    for event in pygame.event.get():\n",
    "        if event.type==pygame.QUIT:\n",
    "            done=True\n",
    "    screen.fill((255,255,255))\n",
    "    image=pygame.image.load('snake.png')\n",
    "    screen.blit(image,(10,10))\n",
    "    pygame.display.flip()\n",
    "    clock.tick(60)\n",
    "pygame.quit()"
   ]
  },
  {
   "cell_type": "code",
   "execution_count": null,
   "id": "cd3febc1",
   "metadata": {},
   "outputs": [],
   "source": []
  }
 ],
 "metadata": {
  "kernelspec": {
   "display_name": "Python 3",
   "language": "python",
   "name": "python3"
  },
  "language_info": {
   "codemirror_mode": {
    "name": "ipython",
    "version": 3
   },
   "file_extension": ".py",
   "mimetype": "text/x-python",
   "name": "python",
   "nbconvert_exporter": "python",
   "pygments_lexer": "ipython3",
   "version": "3.9.5"
  }
 },
 "nbformat": 4,
 "nbformat_minor": 5
}
