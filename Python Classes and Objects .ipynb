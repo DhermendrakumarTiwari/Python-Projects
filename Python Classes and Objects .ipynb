{
 "cells": [
  {
   "cell_type": "code",
   "execution_count": 2,
   "id": "4b50327f",
   "metadata": {},
   "outputs": [
    {
     "name": "stdout",
     "output_type": "stream",
     "text": [
      "<class '__main__.Learn'>\n",
      "learn Python\n",
      "learn Python\n"
     ]
    }
   ],
   "source": [
    "class Learn:\n",
    "    def Fun(self):\n",
    "        print(\"learn Python\")\n",
    "o1=Learn()\n",
    "o2=Learn()\n",
    "print(type(o1))\n",
    "Learn.Fun(o1)\n",
    "o2.Fun()"
   ]
  },
  {
   "cell_type": "code",
   "execution_count": 3,
   "id": "38a8d93d",
   "metadata": {},
   "outputs": [
    {
     "name": "stdout",
     "output_type": "stream",
     "text": [
      "<class 'str'>\n",
      "<class 'int'>\n",
      "<class 'float'>\n",
      "<class 'str'>\n"
     ]
    }
   ],
   "source": [
    "a='abc'\n",
    "b=10\n",
    "c=41.3\n",
    "d='10'\n",
    "print(type(a))\n",
    "print(type(b))\n",
    "print(type(c))\n",
    "print(type(d))"
   ]
  },
  {
   "cell_type": "code",
   "execution_count": 9,
   "id": "e64a4236",
   "metadata": {},
   "outputs": [
    {
     "name": "stdout",
     "output_type": "stream",
     "text": [
      "parametrized cons\n",
      "Hello Goeduhub\n"
     ]
    }
   ],
   "source": [
    "class MyName:\n",
    "    def __init__(self,Name):\n",
    "        print(\"parametrized cons\")\n",
    "        self.Name = Name\n",
    "    def name(self):\n",
    "        print(\"Hello\",self.Name)\n",
    "Object = MyName(\"Goeduhub\")\n",
    "Object.name()"
   ]
  },
  {
   "cell_type": "code",
   "execution_count": 10,
   "id": "4ce7faf7",
   "metadata": {},
   "outputs": [
    {
     "name": "stdout",
     "output_type": "stream",
     "text": [
      "non-parametrized cons\n",
      "Hello Goeduhub\n"
     ]
    }
   ],
   "source": [
    "class MyName:\n",
    "    def __init__(self):\n",
    "        print(\"non-parametrized cons\")\n",
    "        \n",
    "    def name(self,Name):\n",
    "        print(\"Hello\",Name)\n",
    "Object = MyName()\n",
    "Object.name(\"Goeduhub\")"
   ]
  },
  {
   "cell_type": "code",
   "execution_count": 11,
   "id": "69d6a73a",
   "metadata": {},
   "outputs": [],
   "source": [
    "del MyName"
   ]
  },
  {
   "cell_type": "code",
   "execution_count": 12,
   "id": "748d8e4f",
   "metadata": {},
   "outputs": [
    {
     "data": {
      "text/plain": [
       "<function print>"
      ]
     },
     "execution_count": 12,
     "metadata": {},
     "output_type": "execute_result"
    }
   ],
   "source": [
    "print"
   ]
  },
  {
   "cell_type": "code",
   "execution_count": null,
   "id": "c235a5bd",
   "metadata": {},
   "outputs": [],
   "source": []
  }
 ],
 "metadata": {
  "kernelspec": {
   "display_name": "Python 3",
   "language": "python",
   "name": "python3"
  },
  "language_info": {
   "codemirror_mode": {
    "name": "ipython",
    "version": 3
   },
   "file_extension": ".py",
   "mimetype": "text/x-python",
   "name": "python",
   "nbconvert_exporter": "python",
   "pygments_lexer": "ipython3",
   "version": "3.9.5"
  }
 },
 "nbformat": 4,
 "nbformat_minor": 5
}
