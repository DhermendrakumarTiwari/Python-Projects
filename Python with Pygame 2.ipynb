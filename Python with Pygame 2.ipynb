{
 "cells": [
  {
   "cell_type": "code",
   "execution_count": null,
   "id": "42176fdd",
   "metadata": {},
   "outputs": [],
   "source": [
    "import pygame\n",
    "pygame.init()\n",
    "window=pygame.display.set_mode((300,300))\n",
    "clock=pygame.time.Clock()\n",
    "done=False\n",
    "font=pygame.font.SysFont(None,50)\n",
    "text=font.render(\"goeduhub\",True,(255,0,0))\n",
    "while not done:\n",
    "\n",
    "    for event in pygame.event.get():\n",
    "\n",
    "        if event.type == pygame.QUIT:\n",
    "\n",
    "            done = True\n",
    "\n",
    "    window.fill((255, 255, 255))\n",
    "\n",
    "    window.blit(text,\n",
    "\n",
    "        (150 - text.get_width() // 2, \n",
    "\n",
    "         140 - text.get_height() // 2))\n",
    "\n",
    "    pygame.display.flip()\n",
    "\n",
    "    clock.tick(60)\n",
    "\n",
    "pygame.quit()"
   ]
  },
  {
   "cell_type": "code",
   "execution_count": null,
   "id": "b6c66b54",
   "metadata": {},
   "outputs": [],
   "source": []
  }
 ],
 "metadata": {
  "kernelspec": {
   "display_name": "Python 3",
   "language": "python",
   "name": "python3"
  },
  "language_info": {
   "codemirror_mode": {
    "name": "ipython",
    "version": 3
   },
   "file_extension": ".py",
   "mimetype": "text/x-python",
   "name": "python",
   "nbconvert_exporter": "python",
   "pygments_lexer": "ipython3",
   "version": "3.9.5"
  }
 },
 "nbformat": 4,
 "nbformat_minor": 5
}
