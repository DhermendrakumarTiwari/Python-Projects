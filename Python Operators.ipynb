{
 "cells": [
  {
   "cell_type": "markdown",
   "id": "36aafa43",
   "metadata": {},
   "source": [
    "# - Arithmatic = +,-,/,*,%"
   ]
  },
  {
   "cell_type": "code",
   "execution_count": 2,
   "id": "ccb2b947",
   "metadata": {},
   "outputs": [
    {
     "name": "stdout",
     "output_type": "stream",
     "text": [
      "18\n",
      "6\n",
      "72\n",
      "2.0\n",
      "0\n",
      "144\n"
     ]
    }
   ],
   "source": [
    "a=12\n",
    "b=6\n",
    "print(a+b)\n",
    "print(a-b)\n",
    "print(a*b)\n",
    "print(a/b)\n",
    "print(a%b)\n",
    "print(a**2)"
   ]
  },
  {
   "cell_type": "markdown",
   "id": "c6f9af58",
   "metadata": {},
   "source": [
    "# Assignment Operators"
   ]
  },
  {
   "cell_type": "code",
   "execution_count": 3,
   "id": "bfc0d739",
   "metadata": {},
   "outputs": [
    {
     "name": "stdout",
     "output_type": "stream",
     "text": [
      "18\n",
      "30\n"
     ]
    }
   ],
   "source": [
    "a=12\n",
    "b=6\n",
    "c=a+b\n",
    "print(a+b)\n",
    "c+=a\n",
    "print(c)"
   ]
  },
  {
   "cell_type": "markdown",
   "id": "1f207ebb",
   "metadata": {},
   "source": [
    "# Comparison Operators"
   ]
  },
  {
   "cell_type": "code",
   "execution_count": 4,
   "id": "1846e1f1",
   "metadata": {},
   "outputs": [
    {
     "name": "stdout",
     "output_type": "stream",
     "text": [
      "a is greater\n"
     ]
    }
   ],
   "source": [
    "a=21\n",
    "b=10\n",
    "if (a>b):\n",
    "    print(\"a is greater\")\n",
    "else:\n",
    "    (\"b is greater\")"
   ]
  },
  {
   "cell_type": "code",
   "execution_count": 9,
   "id": "51e0046b",
   "metadata": {},
   "outputs": [
    {
     "name": "stdout",
     "output_type": "stream",
     "text": [
      "a is smaller\n"
     ]
    }
   ],
   "source": [
    "a=10\n",
    "b=21\n",
    "if (a<b):\n",
    "    print(\"a is smaller\")\n",
    "else:\n",
    "    (\"b is greater\")"
   ]
  },
  {
   "cell_type": "code",
   "execution_count": 12,
   "id": "ada2b59f",
   "metadata": {},
   "outputs": [
    {
     "name": "stdout",
     "output_type": "stream",
     "text": [
      "number are equal\n"
     ]
    }
   ],
   "source": [
    "a=10\n",
    "b=10\n",
    "if (a<b):\n",
    "    print(\"a is smaller\")\n",
    "elif(a==b):\n",
    "    print(\"number are equal\")\n",
    "else:\n",
    "    (\"b is greater\")"
   ]
  },
  {
   "cell_type": "markdown",
   "id": "57d1c895",
   "metadata": {},
   "source": [
    "# Logical Operators"
   ]
  },
  {
   "cell_type": "code",
   "execution_count": 13,
   "id": "d79df481",
   "metadata": {},
   "outputs": [
    {
     "name": "stdout",
     "output_type": "stream",
     "text": [
      "false\n",
      "true\n",
      "False\n"
     ]
    }
   ],
   "source": [
    "x='true'\n",
    "y='false'\n",
    "print(x and y)\n",
    "print(x or y)\n",
    "print(not x)"
   ]
  },
  {
   "cell_type": "markdown",
   "id": "37255fd9",
   "metadata": {},
   "source": [
    "# Membership Operators"
   ]
  },
  {
   "cell_type": "code",
   "execution_count": 15,
   "id": "b2c1f38f",
   "metadata": {},
   "outputs": [
    {
     "name": "stdout",
     "output_type": "stream",
     "text": [
      "True\n",
      "False\n"
     ]
    }
   ],
   "source": [
    "x=[1,2,3,4]\n",
    "a=3\n",
    "print( a in x)\n",
    "print(a  not in x)"
   ]
  },
  {
   "cell_type": "markdown",
   "id": "a5474728",
   "metadata": {},
   "source": [
    "# Identity Operators"
   ]
  },
  {
   "cell_type": "code",
   "execution_count": 19,
   "id": "d3536def",
   "metadata": {},
   "outputs": [
    {
     "name": "stdout",
     "output_type": "stream",
     "text": [
      "False\n",
      "True\n",
      "1597655494192\n",
      "1597613697680\n"
     ]
    }
   ],
   "source": [
    "x1='python'\n",
    "x2=12\n",
    "y1='python'\n",
    "y2=12\n",
    "print(x1 is x2)\n",
    "print(x1 is not x2)\n",
    "print(id(x1))\n",
    "print(id(x2))"
   ]
  },
  {
   "cell_type": "markdown",
   "id": "7144cdf0",
   "metadata": {},
   "source": [
    "# Bitwise Operators"
   ]
  },
  {
   "cell_type": "code",
   "execution_count": 21,
   "id": "83fc2a55",
   "metadata": {},
   "outputs": [
    {
     "name": "stdout",
     "output_type": "stream",
     "text": [
      "8\n",
      "63\n",
      "55\n",
      "232\n",
      "14\n"
     ]
    }
   ],
   "source": [
    "a=58 #111010\n",
    "b=13 #1101\n",
    "c=0\n",
    "c=a&b\n",
    "print(c)\n",
    "c=a|b\n",
    "print(c)\n",
    "c=a^b\n",
    "print(c)\n",
    "c=a<<2\n",
    "print(c)\n",
    "c=a>>2\n",
    "print(c)"
   ]
  },
  {
   "cell_type": "markdown",
   "id": "f0cc1cdc",
   "metadata": {},
   "source": [
    "# Function in Python\n"
   ]
  },
  {
   "cell_type": "markdown",
   "id": "d21bb3aa",
   "metadata": {},
   "source": [
    "- Group of statements combined together tp perform a specific task \n",
    "1. User Defined Function\n",
    "2. Builtin Function \n",
    "3. Lambda Function"
   ]
  },
  {
   "cell_type": "code",
   "execution_count": 1,
   "id": "b2d4c380",
   "metadata": {},
   "outputs": [
    {
     "name": "stdout",
     "output_type": "stream",
     "text": [
      "Enter a:10\n",
      "Enter b:12\n",
      "sum is: 22\n"
     ]
    }
   ],
   "source": [
    "def Add(a,b):\n",
    "    return a+b;\n",
    "a=int(input(\"Enter a:\"))\n",
    "b=int(input(\"Enter b:\"))\n",
    "print(\"sum is:\",Add(a,b))\n"
   ]
  },
  {
   "cell_type": "markdown",
   "id": "fa71750d",
   "metadata": {},
   "source": [
    "# Arguments"
   ]
  },
  {
   "cell_type": "markdown",
   "id": "1c755897",
   "metadata": {},
   "source": [
    "1. Required\n",
    "2. Keywords\n",
    "3. Default"
   ]
  },
  {
   "cell_type": "code",
   "execution_count": 7,
   "id": "89547c75",
   "metadata": {},
   "outputs": [
    {
     "name": "stdout",
     "output_type": "stream",
     "text": [
      "abc\n",
      "21\n",
      "15000\n"
     ]
    }
   ],
   "source": [
    "def disp(name,age,salary=20000):\n",
    "    print(name)\n",
    "    print(age)\n",
    "    print(salary)\n",
    "    return;\n",
    "disp(age=21,name='abc',salary=15000)"
   ]
  },
  {
   "cell_type": "markdown",
   "id": "8a6ddab5",
   "metadata": {},
   "source": [
    "#Builtin function\n",
    "- list\n",
    "- sets\n",
    "- tuple\n",
    "- len\n",
    "- type"
   ]
  },
  {
   "cell_type": "code",
   "execution_count": 8,
   "id": "0b0df254",
   "metadata": {},
   "outputs": [
    {
     "name": "stdout",
     "output_type": "stream",
     "text": [
      "[1, 23, 45, 69, 78, 457]\n"
     ]
    }
   ],
   "source": [
    "list=[45,78,23,1,457,69]\n",
    "s_list=sorted(list)\n",
    "print(s_list)"
   ]
  },
  {
   "cell_type": "markdown",
   "id": "82531275",
   "metadata": {},
   "source": [
    "Lambda Function"
   ]
  },
  {
   "cell_type": "code",
   "execution_count": 11,
   "id": "5c2f7093",
   "metadata": {},
   "outputs": [
    {
     "name": "stdout",
     "output_type": "stream",
     "text": [
      "10\n"
     ]
    }
   ],
   "source": [
    "int=lambda x:x*2\n",
    "print(int(5))"
   ]
  },
  {
   "cell_type": "markdown",
   "id": "98b06f9c",
   "metadata": {},
   "source": [
    "Implementation of Built-In Function\n",
    "1. abs()  = return the absolute value of any no.\n",
    "2. all()  = when all elements in itreable's\n",
    "3. any()  = any elements\n",
    "4. bool() = convert a value to boolean\n",
    "5. bytes() = immutable byte object\n",
    "6. input() = reads is returns a line of string\n",
    "8. list()  = create a list\n",
    "9. length() = length of any object\n",
    "10. pow(a,b) = power of a number \n",
    "11. odd() = returns int, if unicode character\n",
    "12. type()"
   ]
  },
  {
   "cell_type": "code",
   "execution_count": 12,
   "id": "d050e49e",
   "metadata": {},
   "outputs": [
    {
     "name": "stdout",
     "output_type": "stream",
     "text": [
      "20\n"
     ]
    }
   ],
   "source": [
    "i=20\n",
    "print(abs(i))"
   ]
  },
  {
   "cell_type": "code",
   "execution_count": 13,
   "id": "65da0e3b",
   "metadata": {},
   "outputs": [
    {
     "name": "stdout",
     "output_type": "stream",
     "text": [
      "True\n"
     ]
    }
   ],
   "source": [
    "l=[1,2,3,4]\n",
    "print(all(l))"
   ]
  },
  {
   "cell_type": "code",
   "execution_count": 14,
   "id": "5d07946d",
   "metadata": {},
   "outputs": [
    {
     "name": "stdout",
     "output_type": "stream",
     "text": [
      "True\n"
     ]
    }
   ],
   "source": [
    "print(any(l))"
   ]
  },
  {
   "cell_type": "code",
   "execution_count": 15,
   "id": "87125c30",
   "metadata": {},
   "outputs": [
    {
     "name": "stdout",
     "output_type": "stream",
     "text": [
      "0b101\n"
     ]
    }
   ],
   "source": [
    "n=5\n",
    "print(bin(n))"
   ]
  }
 ],
 "metadata": {
  "kernelspec": {
   "display_name": "Python 3",
   "language": "python",
   "name": "python3"
  },
  "language_info": {
   "codemirror_mode": {
    "name": "ipython",
    "version": 3
   },
   "file_extension": ".py",
   "mimetype": "text/x-python",
   "name": "python",
   "nbconvert_exporter": "python",
   "pygments_lexer": "ipython3",
   "version": "3.9.5"
  }
 },
 "nbformat": 4,
 "nbformat_minor": 5
}
