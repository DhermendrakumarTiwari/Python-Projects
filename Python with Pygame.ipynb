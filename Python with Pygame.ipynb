{
 "cells": [
  {
   "cell_type": "code",
   "execution_count": 1,
   "id": "b32121ab",
   "metadata": {},
   "outputs": [
    {
     "name": "stdout",
     "output_type": "stream",
     "text": [
      "Requirement already satisfied: pygame in c:\\users\\dhermendra kumar\\appdata\\local\\programs\\python\\python39\\lib\\site-packages (2.0.1)\n"
     ]
    },
    {
     "name": "stderr",
     "output_type": "stream",
     "text": [
      "WARNING: You are using pip version 21.1.1; however, version 21.1.2 is available.\n",
      "You should consider upgrading via the 'c:\\users\\dhermendra kumar\\appdata\\local\\programs\\python\\python39\\python.exe -m pip install --upgrade pip' command.\n"
     ]
    }
   ],
   "source": [
    "!pip install pygame"
   ]
  },
  {
   "cell_type": "code",
   "execution_count": 1,
   "id": "fd408212",
   "metadata": {},
   "outputs": [
    {
     "name": "stdout",
     "output_type": "stream",
     "text": [
      "pygame 2.0.1 (SDL 2.0.14, Python 3.9.5)\n",
      "Hello from the pygame community. https://www.pygame.org/contribute.html\n"
     ]
    }
   ],
   "source": [
    "import pygame\n",
    "pygame.init()\n",
    "pygame.display.set_caption(\"pygame window\")\n",
    "screen=pygame.display.set_mode((400,300))\n",
    "done=False\n",
    "is_blue=True\n",
    "x=30\n",
    "y=40\n",
    "clock=pygame.time.Clock()\n",
    "while not done:\n",
    "    for event in pygame.event.get():\n",
    "        if event.type==pygame.QUIT:\n",
    "            done=True\n",
    "        if event.type==pygame.KEYDOWN and event.key==pygame.K_SPACE:\n",
    "            is_blue=not is_blue\n",
    "    pressed=pygame.key.get_pressed()\n",
    "    if pressed[pygame.K_UP]:y-=3\n",
    "    if pressed[pygame.K_DOWN]:y+=3\n",
    "    if pressed[pygame.K_LEFT]:x-=3\n",
    "    if pressed[pygame.K_RIGHT]:x+=3\n",
    "    screen.fill((0,0,0))\n",
    "    if is_blue:color=(0,128,255)\n",
    "    else:color=((255,100,0))\n",
    "    pygame.draw.rect(screen,color,pygame.Rect(x,y,60,60))\n",
    "    pygame .display.flip()\n",
    "    clock.tick(60)"
   ]
  },
  {
   "cell_type": "code",
   "execution_count": null,
   "id": "726bf6bc",
   "metadata": {},
   "outputs": [],
   "source": []
  }
 ],
 "metadata": {
  "kernelspec": {
   "display_name": "Python 3",
   "language": "python",
   "name": "python3"
  },
  "language_info": {
   "codemirror_mode": {
    "name": "ipython",
    "version": 3
   },
   "file_extension": ".py",
   "mimetype": "text/x-python",
   "name": "python",
   "nbconvert_exporter": "python",
   "pygments_lexer": "ipython3",
   "version": "3.9.5"
  }
 },
 "nbformat": 4,
 "nbformat_minor": 5
}
