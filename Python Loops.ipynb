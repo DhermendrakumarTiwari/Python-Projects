{
 "cells": [
  {
   "cell_type": "markdown",
   "id": "f1c5293a",
   "metadata": {},
   "source": [
    "# Python Loops"
   ]
  },
  {
   "cell_type": "markdown",
   "id": "8a48dfbd",
   "metadata": {},
   "source": [
    "- For loops\n",
    "- While loops"
   ]
  },
  {
   "cell_type": "code",
   "execution_count": 2,
   "id": "d06d8bc4",
   "metadata": {},
   "outputs": [
    {
     "name": "stdout",
     "output_type": "stream",
     "text": [
      "1\n",
      "2\n",
      "3\n",
      "4\n",
      "5\n"
     ]
    }
   ],
   "source": [
    "x=(1,2,3,4,5)\n",
    "for i in x:\n",
    "    print(i)"
   ]
  },
  {
   "cell_type": "code",
   "execution_count": 1,
   "id": "6f71eb81",
   "metadata": {},
   "outputs": [
    {
     "name": "stdout",
     "output_type": "stream",
     "text": [
      "[1, 3, 5, 7, 9, 11, 13]\n"
     ]
    }
   ],
   "source": [
    "a=list(range(1,15,2))\n",
    "print(a)"
   ]
  },
  {
   "cell_type": "code",
   "execution_count": 9,
   "id": "1049218e",
   "metadata": {},
   "outputs": [
    {
     "name": "stdout",
     "output_type": "stream",
     "text": [
      "A number = 5\n",
      "11\n"
     ]
    }
   ],
   "source": [
    "n=int(input(\"A number = \"))\n",
    "i=0\n",
    "while i  <=n:\n",
    "      i=i+1\n",
    "      s=i+n\n",
    "print(s)"
   ]
  },
  {
   "cell_type": "markdown",
   "id": "55b50891",
   "metadata": {},
   "source": [
    "# - Control Statements"
   ]
  },
  {
   "cell_type": "markdown",
   "id": "4f3b4d69",
   "metadata": {},
   "source": [
    "- Break\n",
    "- Continue\n",
    "- Pass"
   ]
  },
  {
   "cell_type": "code",
   "execution_count": 11,
   "id": "b50c35da",
   "metadata": {},
   "outputs": [
    {
     "name": "stdout",
     "output_type": "stream",
     "text": [
      "1\n",
      "2\n",
      "3\n"
     ]
    }
   ],
   "source": [
    "list=[1,2,3,4,5]\n",
    "for i in list:\n",
    "    if i==4:\n",
    "        break\n",
    "    print(i)"
   ]
  },
  {
   "cell_type": "code",
   "execution_count": 12,
   "id": "48dd7b1c",
   "metadata": {},
   "outputs": [
    {
     "name": "stdout",
     "output_type": "stream",
     "text": [
      "1\n",
      "2\n",
      "3\n",
      "5\n"
     ]
    }
   ],
   "source": [
    "list=[1,2,3,4,5]\n",
    "for i in list:\n",
    "    if i==4:\n",
    "        continue\n",
    "    print(i)"
   ]
  },
  {
   "cell_type": "code",
   "execution_count": 13,
   "id": "3d996c8a",
   "metadata": {},
   "outputs": [
    {
     "name": "stdout",
     "output_type": "stream",
     "text": [
      "1\n",
      "3\n",
      "5\n",
      "7\n",
      "9\n"
     ]
    }
   ],
   "source": [
    "list=[1,2,3,4,5,6,7,8,9,10]\n",
    "for i in list:\n",
    "    if i%2==0:\n",
    "        pass\n",
    "    else:\n",
    "        print(i)"
   ]
  },
  {
   "cell_type": "code",
   "execution_count": 15,
   "id": "e7eba95c",
   "metadata": {},
   "outputs": [
    {
     "name": "stdout",
     "output_type": "stream",
     "text": [
      "enter number:4\n",
      "number 2\n",
      "number 1\n",
      "number 0\n"
     ]
    }
   ],
   "source": [
    "num=int(input(\"enter number:\"))\n",
    "while num>0:\n",
    "    num=num-1\n",
    "    if num==3:\n",
    "        continue\n",
    "        print(num)\n",
    "    print(\"number\",num)"
   ]
  },
  {
   "cell_type": "code",
   "execution_count": 16,
   "id": "5be8bd25",
   "metadata": {},
   "outputs": [
    {
     "name": "stdout",
     "output_type": "stream",
     "text": [
      "enter number:4\n",
      "number 3\n"
     ]
    }
   ],
   "source": [
    "num=int(input(\"enter number:\"))\n",
    "while num>0:\n",
    "    num=num-1\n",
    "    if num==2:\n",
    "        break\n",
    "        print(num)\n",
    "    print(\"number\",num)"
   ]
  },
  {
   "cell_type": "markdown",
   "id": "45d55f98",
   "metadata": {},
   "source": [
    "# Decision Making Statements"
   ]
  },
  {
   "cell_type": "markdown",
   "id": "6c7be25c",
   "metadata": {},
   "source": [
    "- a==b\n",
    "- a!=b\n",
    "- a>b\n",
    "- a<b\n",
    "- a>=b\n",
    "- a<=b\n",
    "- if-else statement\n",
    "- elif statement\n",
    "- nested if"
   ]
  },
  {
   "cell_type": "code",
   "execution_count": 18,
   "id": "f5357e6e",
   "metadata": {},
   "outputs": [
    {
     "name": "stdout",
     "output_type": "stream",
     "text": [
      "Enter the first number:15\n",
      "Enter the seconf number:15\n",
      "a and b are same number\n"
     ]
    }
   ],
   "source": [
    "a = int(input(\"Enter the first number:\"))\n",
    "b = int(input(\"Enter the seconf number:\"))\n",
    "if(a>b):\n",
    "    print(a,\"is greater\")\n",
    "    \n",
    "elif(a==b):\n",
    "    print(\"a and b are same number\")\n",
    "else:\n",
    "    print(b,\"is greater\")"
   ]
  },
  {
   "cell_type": "code",
   "execution_count": 21,
   "id": "95ee2a27",
   "metadata": {},
   "outputs": [
    {
     "name": "stdout",
     "output_type": "stream",
     "text": [
      "Value of x=65\n",
      "the value is greater than 50\n",
      "the value is less than 100\n"
     ]
    }
   ],
   "source": [
    "x=int(input(\"Value of x=\"))\n",
    "if x>50:\n",
    "    print(\"the value is greater than 50\")\n",
    "    if x>100:\n",
    "        print(\"the value is greate than 100\")\n",
    "    else:\n",
    "        print(\"the value is less than 100\")\n",
    "else:\n",
    "    print(\"the value is less than 50\")"
   ]
  }
 ],
 "metadata": {
  "kernelspec": {
   "display_name": "Python 3",
   "language": "python",
   "name": "python3"
  },
  "language_info": {
   "codemirror_mode": {
    "name": "ipython",
    "version": 3
   },
   "file_extension": ".py",
   "mimetype": "text/x-python",
   "name": "python",
   "nbconvert_exporter": "python",
   "pygments_lexer": "ipython3",
   "version": "3.9.5"
  }
 },
 "nbformat": 4,
 "nbformat_minor": 5
}
