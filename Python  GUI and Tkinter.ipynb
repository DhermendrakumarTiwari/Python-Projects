{
 "cells": [
  {
   "cell_type": "code",
   "execution_count": 1,
   "id": "449dc97e",
   "metadata": {},
   "outputs": [],
   "source": [
    "import tkinter\n",
    "g=tkinter.Tk()\n",
    "g.mainloop()"
   ]
  },
  {
   "cell_type": "code",
   "execution_count": 14,
   "id": "ec59f885",
   "metadata": {},
   "outputs": [],
   "source": [
    "import tkinter as tk\n",
    "var=tkinter.Tk()\n",
    "var.title('counting seconds')\n",
    "button=tk.Button(var,text=\"Goeduhub\",width=50,bg=\"red\")\n",
    "button.pack()\n",
    "var.mainloop()"
   ]
  },
  {
   "cell_type": "code",
   "execution_count": 16,
   "id": "0a6e2f6f",
   "metadata": {},
   "outputs": [],
   "source": [
    "from tkinter import *\n",
    "var=Tk()\n",
    "canvas=Canvas(var,width=50,height=50,bg='blue')\n",
    "canvas.pack()\n",
    "canvas_height=50\n",
    "canvas_width=200\n",
    "x=int(canvas_height/2)\n",
    "y=int(canvas_width/2)\n",
    "canvas.create_line(x,y,canvas_width,y)\n",
    "mainloop()"
   ]
  },
  {
   "cell_type": "code",
   "execution_count": 17,
   "id": "a94ac426",
   "metadata": {},
   "outputs": [],
   "source": [
    "from tkinter import *\n",
    "var=Tk()\n",
    "name=Label(var,text='Name')\n",
    "name.grid(row=0,column=1)\n",
    "e1=Entry(var).grid(row=0,column=1)\n",
    "password=Label(var,text='Password')\n",
    "password.grid(row=1,column=0)\n",
    "e2=Entry(var).grid(row=1,column=1)\n",
    "submit=Button(var,text='Submit',fg='red').grid(row=4,column=0)\n",
    "var.geometry('450x200')\n",
    "var.mainloop()"
   ]
  },
  {
   "cell_type": "code",
   "execution_count": null,
   "id": "3a7bd7fa",
   "metadata": {},
   "outputs": [],
   "source": []
  }
 ],
 "metadata": {
  "kernelspec": {
   "display_name": "Python 3",
   "language": "python",
   "name": "python3"
  },
  "language_info": {
   "codemirror_mode": {
    "name": "ipython",
    "version": 3
   },
   "file_extension": ".py",
   "mimetype": "text/x-python",
   "name": "python",
   "nbconvert_exporter": "python",
   "pygments_lexer": "ipython3",
   "version": "3.9.5"
  }
 },
 "nbformat": 4,
 "nbformat_minor": 5
}
