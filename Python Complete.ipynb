{
 "cells": [
  {
   "cell_type": "markdown",
   "id": "f9c24c85",
   "metadata": {},
   "source": [
    "# Introduction on python"
   ]
  },
  {
   "cell_type": "markdown",
   "id": "84c4b46c",
   "metadata": {},
   "source": [
    "General purpose , dynmic, high level, interpreted programming language\n",
    "- easy to use\n",
    "- free and open source\n",
    "- object oriented\n",
    "- portable\n",
    "- expressive language\n",
    "- extensive\n",
    "- GUI\n",
    "- large standard library\n"
   ]
  },
  {
   "cell_type": "markdown",
   "id": "055d2187",
   "metadata": {},
   "source": [
    "# Applications"
   ]
  },
  {
   "cell_type": "markdown",
   "id": "28967663",
   "metadata": {},
   "source": [
    "- Web application such as Django, Pyramid,\n",
    "- ML\n",
    "- Scientific computing\n",
    "- Bussiness application\n",
    "- Games & 3D graphics\n",
    "- Desktop application"
   ]
  },
  {
   "cell_type": "code",
   "execution_count": 2,
   "id": "1414e3e8",
   "metadata": {},
   "outputs": [
    {
     "name": "stdout",
     "output_type": "stream",
     "text": [
      "Hello World\n"
     ]
    }
   ],
   "source": [
    "print(\"Hello World\")"
   ]
  },
  {
   "cell_type": "code",
   "execution_count": 3,
   "id": "8dae49a4",
   "metadata": {},
   "outputs": [
    {
     "name": "stdout",
     "output_type": "stream",
     "text": [
      "Hello\n",
      "How are you ??\n"
     ]
    }
   ],
   "source": [
    "print(\"Hello\")\n",
    "print(\"How are you ??\")"
   ]
  },
  {
   "cell_type": "code",
   "execution_count": 4,
   "id": "fcc14852",
   "metadata": {},
   "outputs": [
    {
     "name": "stdout",
     "output_type": "stream",
     "text": [
      "Hello Everyone\n"
     ]
    }
   ],
   "source": [
    "print(\"Hello Everyone\")#single lone comments"
   ]
  },
  {
   "cell_type": "code",
   "execution_count": 5,
   "id": "5faae914",
   "metadata": {},
   "outputs": [
    {
     "name": "stdout",
     "output_type": "stream",
     "text": [
      "Hello\n"
     ]
    }
   ],
   "source": [
    "'''\n",
    "multiple line comment'''\n",
    "print(\"Hello\")"
   ]
  },
  {
   "cell_type": "code",
   "execution_count": 6,
   "id": "498593ad",
   "metadata": {},
   "outputs": [
    {
     "name": "stdout",
     "output_type": "stream",
     "text": [
      "20 Goeduhub\n"
     ]
    }
   ],
   "source": [
    "a=20\n",
    "b=\"Goeduhub\"\n",
    "print(a,b)"
   ]
  },
  {
   "cell_type": "code",
   "execution_count": 7,
   "id": "6bc58ef7",
   "metadata": {},
   "outputs": [
    {
     "name": "stdout",
     "output_type": "stream",
     "text": [
      "['False', 'None', 'True', '__peg_parser__', 'and', 'as', 'assert', 'async', 'await', 'break', 'class', 'continue', 'def', 'del', 'elif', 'else', 'except', 'finally', 'for', 'from', 'global', 'if', 'import', 'in', 'is', 'lambda', 'nonlocal', 'not', 'or', 'pass', 'raise', 'return', 'try', 'while', 'with', 'yield']\n"
     ]
    }
   ],
   "source": [
    "import keyword\n",
    "print(keyword.kwlist)"
   ]
  },
  {
   "cell_type": "markdown",
   "id": "397eef76",
   "metadata": {},
   "source": [
    "# Datatypes"
   ]
  },
  {
   "cell_type": "markdown",
   "id": "13f908b1",
   "metadata": {},
   "source": [
    "1. Immutable  2. mutable\n",
    "1.1  number     2. Dictionary\n",
    "1. string     2. list\n",
    "1. tuple      2. sets"
   ]
  },
  {
   "cell_type": "code",
   "execution_count": 9,
   "id": "0369e247",
   "metadata": {},
   "outputs": [
    {
     "name": "stdout",
     "output_type": "stream",
     "text": [
      "<class 'int'>\n",
      "<class 'str'>\n",
      "<class 'float'>\n"
     ]
    }
   ],
   "source": [
    "a=10\n",
    "b=\"cat\"\n",
    "c=10.25\n",
    "print(type(a))\n",
    "print(type(b))\n",
    "print(type(c))"
   ]
  },
  {
   "cell_type": "markdown",
   "id": "52d2efae",
   "metadata": {},
   "source": [
    "1. Numbers  \n",
    "- Integer = Whole number value\n",
    "- Float\n",
    "- Complex Number\n",
    "- Boolean\n"
   ]
  },
  {
   "cell_type": "code",
   "execution_count": 15,
   "id": "65c71d15",
   "metadata": {},
   "outputs": [
    {
     "name": "stdout",
     "output_type": "stream",
     "text": [
      "<class 'int'>\n",
      "<class 'float'>\n",
      "<class 'complex'>\n",
      "<class 'bool'>\n",
      "True\n"
     ]
    }
   ],
   "source": [
    "a=10\n",
    "b=20.36\n",
    "x=10+9j\n",
    "num=89>56\n",
    "print(type(a))\n",
    "print(type(b))\n",
    "print(type(x))\n",
    "print(type(num))\n",
    "print(num)"
   ]
  },
  {
   "cell_type": "markdown",
   "id": "09fa0d6b",
   "metadata": {},
   "source": [
    "2. String\n",
    "- Unicode char value\n"
   ]
  },
  {
   "cell_type": "code",
   "execution_count": 16,
   "id": "c60e129b",
   "metadata": {},
   "outputs": [
    {
     "name": "stdout",
     "output_type": "stream",
     "text": [
      "t\n"
     ]
    }
   ],
   "source": [
    "a=\"Python\"\n",
    "print(a[2])"
   ]
  },
  {
   "cell_type": "code",
   "execution_count": 17,
   "id": "0cb1a662",
   "metadata": {},
   "outputs": [
    {
     "name": "stdout",
     "output_type": "stream",
     "text": [
      "Dhermendra\n",
      "hello Dhermendra\n"
     ]
    }
   ],
   "source": [
    "x=input()\n",
    "print('hello',x)"
   ]
  },
  {
   "cell_type": "code",
   "execution_count": 22,
   "id": "d42ed8a3",
   "metadata": {},
   "outputs": [
    {
     "name": "stdout",
     "output_type": "stream",
     "text": [
      "PYTHON\n",
      "Pythou\n",
      "Python\n"
     ]
    }
   ],
   "source": [
    "a ='Python'\n",
    "print(a.upper())\n",
    "x=a.replace('n','u')\n",
    "print(x)\n",
    "print(a)"
   ]
  },
  {
   "cell_type": "markdown",
   "id": "cf930fc3",
   "metadata": {},
   "source": [
    "1. List\n",
    "- mutable, duplicate value accepted\n",
    "- accept the item of list\n",
    "- dear\n",
    "- copy\n",
    "- count\n",
    "- pop\n",
    "- remote\n",
    "- sort"
   ]
  },
  {
   "cell_type": "code",
   "execution_count": 23,
   "id": "682d6e16",
   "metadata": {},
   "outputs": [
    {
     "name": "stdout",
     "output_type": "stream",
     "text": [
      "[30, 40]\n"
     ]
    }
   ],
   "source": [
    "list=[10,20,30,40,'abc']\n",
    "print(list[2:4])"
   ]
  },
  {
   "cell_type": "code",
   "execution_count": 28,
   "id": "5ca827b7",
   "metadata": {},
   "outputs": [
    {
     "name": "stdout",
     "output_type": "stream",
     "text": [
      "[]\n"
     ]
    }
   ],
   "source": [
    "list=[10,20,30,40,50]\n",
    "list[2]=55\n",
    "list.append(85)\n",
    "list.insert(4,65)\n",
    "list.clear()\n",
    "print(list)"
   ]
  },
  {
   "cell_type": "markdown",
   "id": "a3d96fe6",
   "metadata": {},
   "source": [
    "# Python Tuples"
   ]
  },
  {
   "cell_type": "code",
   "execution_count": 29,
   "id": "fa846fe0",
   "metadata": {},
   "outputs": [
    {
     "name": "stdout",
     "output_type": "stream",
     "text": [
      "<class 'tuple'>\n",
      "<class 'tuple'>\n"
     ]
    }
   ],
   "source": [
    "t1 = (10,20,30,'a')\n",
    "t2 = 100,200,300\n",
    "print(type(t1))\n",
    "print(type(t2))"
   ]
  },
  {
   "cell_type": "code",
   "execution_count": 30,
   "id": "26fdce2f",
   "metadata": {},
   "outputs": [
    {
     "data": {
      "text/plain": [
       "10"
      ]
     },
     "execution_count": 30,
     "metadata": {},
     "output_type": "execute_result"
    }
   ],
   "source": [
    "t1[0]"
   ]
  },
  {
   "cell_type": "code",
   "execution_count": 34,
   "id": "47cf351e",
   "metadata": {},
   "outputs": [
    {
     "data": {
      "text/plain": [
       "(10, 20)"
      ]
     },
     "execution_count": 34,
     "metadata": {},
     "output_type": "execute_result"
    }
   ],
   "source": [
    "t1[0:2]"
   ]
  },
  {
   "cell_type": "code",
   "execution_count": 35,
   "id": "49eb2c5d",
   "metadata": {},
   "outputs": [
    {
     "data": {
      "text/plain": [
       "30"
      ]
     },
     "execution_count": 35,
     "metadata": {},
     "output_type": "execute_result"
    }
   ],
   "source": [
    "t1[-2]"
   ]
  },
  {
   "cell_type": "code",
   "execution_count": 36,
   "id": "54cc2795",
   "metadata": {},
   "outputs": [
    {
     "ename": "TypeError",
     "evalue": "'tuple' object doesn't support item deletion",
     "output_type": "error",
     "traceback": [
      "\u001b[1;31m---------------------------------------------------------------------------\u001b[0m",
      "\u001b[1;31mTypeError\u001b[0m                                 Traceback (most recent call last)",
      "\u001b[1;32m<ipython-input-36-0158a2f97b93>\u001b[0m in \u001b[0;36m<module>\u001b[1;34m\u001b[0m\n\u001b[1;32m----> 1\u001b[1;33m \u001b[1;32mdel\u001b[0m \u001b[0mt1\u001b[0m\u001b[1;33m[\u001b[0m\u001b[1;33m-\u001b[0m\u001b[1;36m1\u001b[0m\u001b[1;33m]\u001b[0m\u001b[1;33m\u001b[0m\u001b[1;33m\u001b[0m\u001b[0m\n\u001b[0m",
      "\u001b[1;31mTypeError\u001b[0m: 'tuple' object doesn't support item deletion"
     ]
    }
   ],
   "source": [
    "del t1[-1]"
   ]
  },
  {
   "cell_type": "code",
   "execution_count": 37,
   "id": "0447d592",
   "metadata": {},
   "outputs": [],
   "source": [
    "del t1"
   ]
  },
  {
   "cell_type": "code",
   "execution_count": 38,
   "id": "6df18143",
   "metadata": {},
   "outputs": [
    {
     "ename": "NameError",
     "evalue": "name 't1' is not defined",
     "output_type": "error",
     "traceback": [
      "\u001b[1;31m---------------------------------------------------------------------------\u001b[0m",
      "\u001b[1;31mNameError\u001b[0m                                 Traceback (most recent call last)",
      "\u001b[1;32m<ipython-input-38-5db19043943a>\u001b[0m in \u001b[0;36m<module>\u001b[1;34m\u001b[0m\n\u001b[1;32m----> 1\u001b[1;33m \u001b[0mt1\u001b[0m\u001b[1;33m\u001b[0m\u001b[1;33m\u001b[0m\u001b[0m\n\u001b[0m",
      "\u001b[1;31mNameError\u001b[0m: name 't1' is not defined"
     ]
    }
   ],
   "source": [
    "t1"
   ]
  },
  {
   "cell_type": "code",
   "execution_count": 39,
   "id": "d55ea295",
   "metadata": {},
   "outputs": [],
   "source": [
    "t1 = (1,2,3,4,5,6,7,8)\n"
   ]
  },
  {
   "cell_type": "code",
   "execution_count": 40,
   "id": "bbb743fb",
   "metadata": {},
   "outputs": [
    {
     "data": {
      "text/plain": [
       "(1, 2, 3, 4, 5, 6, 7, 8, 1, 2, 3, 4, 5, 6, 7, 8)"
      ]
     },
     "execution_count": 40,
     "metadata": {},
     "output_type": "execute_result"
    }
   ],
   "source": [
    "t1*2"
   ]
  },
  {
   "cell_type": "code",
   "execution_count": 41,
   "id": "26c0d887",
   "metadata": {},
   "outputs": [],
   "source": [
    "t2=('hello','world')\n"
   ]
  },
  {
   "cell_type": "code",
   "execution_count": 42,
   "id": "91b775fd",
   "metadata": {},
   "outputs": [
    {
     "data": {
      "text/plain": [
       "(1, 2, 3, 4, 5, 6, 7, 8, 'hello', 'world')"
      ]
     },
     "execution_count": 42,
     "metadata": {},
     "output_type": "execute_result"
    }
   ],
   "source": [
    "t1+t2"
   ]
  },
  {
   "cell_type": "code",
   "execution_count": 44,
   "id": "89847ec1",
   "metadata": {},
   "outputs": [
    {
     "name": "stdout",
     "output_type": "stream",
     "text": [
      "True\n"
     ]
    }
   ],
   "source": [
    "print(2 in t1)"
   ]
  },
  {
   "cell_type": "code",
   "execution_count": 45,
   "id": "fe425752",
   "metadata": {},
   "outputs": [
    {
     "name": "stdout",
     "output_type": "stream",
     "text": [
      "1\n",
      "2\n",
      "3\n",
      "4\n",
      "5\n",
      "6\n",
      "7\n",
      "8\n"
     ]
    }
   ],
   "source": [
    "for i in t1:\n",
    "    print(i)"
   ]
  },
  {
   "cell_type": "code",
   "execution_count": 46,
   "id": "f562ffb5",
   "metadata": {},
   "outputs": [
    {
     "data": {
      "text/plain": [
       "8"
      ]
     },
     "execution_count": 46,
     "metadata": {},
     "output_type": "execute_result"
    }
   ],
   "source": [
    "len(t1)"
   ]
  },
  {
   "cell_type": "code",
   "execution_count": 47,
   "id": "c58dfe68",
   "metadata": {},
   "outputs": [
    {
     "data": {
      "text/plain": [
       "8"
      ]
     },
     "execution_count": 47,
     "metadata": {},
     "output_type": "execute_result"
    }
   ],
   "source": [
    "max(t1)"
   ]
  },
  {
   "cell_type": "code",
   "execution_count": 48,
   "id": "328e1bee",
   "metadata": {},
   "outputs": [
    {
     "data": {
      "text/plain": [
       "1"
      ]
     },
     "execution_count": 48,
     "metadata": {},
     "output_type": "execute_result"
    }
   ],
   "source": [
    "min(t1)"
   ]
  },
  {
   "cell_type": "code",
   "execution_count": 49,
   "id": "c67a38d0",
   "metadata": {},
   "outputs": [
    {
     "data": {
      "text/plain": [
       "('h', 'e', 'l', 'l', 'o')"
      ]
     },
     "execution_count": 49,
     "metadata": {},
     "output_type": "execute_result"
    }
   ],
   "source": [
    "s='hello'\n",
    "tuple(s)"
   ]
  },
  {
   "cell_type": "markdown",
   "id": "41c0c056",
   "metadata": {},
   "source": [
    "# Python dictionry"
   ]
  },
  {
   "cell_type": "code",
   "execution_count": 59,
   "id": "fd7a2310",
   "metadata": {},
   "outputs": [
    {
     "name": "stdout",
     "output_type": "stream",
     "text": [
      "{}\n"
     ]
    }
   ],
   "source": [
    "dict = {1:'amit',2:'ani',3:'amita'}\n",
    "dict[2]=\"Dhermendra\"\n",
    "dict.pop(2)\n",
    "dict.clear()\n",
    "dict.keys()\n",
    "dict.values()\n",
    "print(dict)"
   ]
  },
  {
   "cell_type": "markdown",
   "id": "112c6cdf",
   "metadata": {},
   "source": [
    "# Python Sets"
   ]
  },
  {
   "cell_type": "markdown",
   "id": "0b1db9f9",
   "metadata": {},
   "source": [
    "- collection of unordered elements\n",
    "- mutable\n",
    "- unindexed\n",
    "- accessing the elements use loop\n",
    "- .add\n",
    "- .update"
   ]
  },
  {
   "cell_type": "code",
   "execution_count": 64,
   "id": "4bce9cf5",
   "metadata": {},
   "outputs": [
    {
     "name": "stdout",
     "output_type": "stream",
     "text": [
      "{56, 1, 2.4, 'abc'}\n",
      "4\n"
     ]
    }
   ],
   "source": [
    "s={1,2.4,'abc',56}\n",
    "print(s)\n",
    "print(len(s))"
   ]
  },
  {
   "cell_type": "code",
   "execution_count": 65,
   "id": "093b8261",
   "metadata": {},
   "outputs": [
    {
     "name": "stdout",
     "output_type": "stream",
     "text": [
      "56\n",
      "1\n",
      "2.4\n",
      "abc\n"
     ]
    }
   ],
   "source": [
    "s={1,2.4,'abc',56}\n",
    "for x in s:\n",
    "    print(x)"
   ]
  },
  {
   "cell_type": "code",
   "execution_count": 66,
   "id": "9d427cb7",
   "metadata": {},
   "outputs": [
    {
     "name": "stdout",
     "output_type": "stream",
     "text": [
      "{1, 2.4, 'abc', 'xyz', 56}\n"
     ]
    }
   ],
   "source": [
    "s={1,2.4,'abc',56}\n",
    "s.add('xyz')\n",
    "print(s)"
   ]
  },
  {
   "cell_type": "code",
   "execution_count": 68,
   "id": "c15b2a19",
   "metadata": {},
   "outputs": [
    {
     "name": "stdout",
     "output_type": "stream",
     "text": [
      "{1, 2.4, 69, 10, 'abc', 56, 25}\n"
     ]
    }
   ],
   "source": [
    "s={1,2.4,'abc',56}\n",
    "s.update([10,25,69])\n",
    "print(s)"
   ]
  },
  {
   "cell_type": "code",
   "execution_count": 69,
   "id": "355e5609",
   "metadata": {},
   "outputs": [
    {
     "name": "stdout",
     "output_type": "stream",
     "text": [
      "{56, 1, 2.4}\n"
     ]
    }
   ],
   "source": [
    "s={1,2.4,'abc',56}\n",
    "s.remove('abc')\n",
    "print(s)"
   ]
  },
  {
   "cell_type": "code",
   "execution_count": 70,
   "id": "9a243521",
   "metadata": {},
   "outputs": [
    {
     "name": "stdout",
     "output_type": "stream",
     "text": [
      "set()\n"
     ]
    }
   ],
   "source": [
    "s={1,2.4,'abc',56}\n",
    "s.clear()\n",
    "print(s)"
   ]
  }
 ],
 "metadata": {
  "kernelspec": {
   "display_name": "Python 3",
   "language": "python",
   "name": "python3"
  },
  "language_info": {
   "codemirror_mode": {
    "name": "ipython",
    "version": 3
   },
   "file_extension": ".py",
   "mimetype": "text/x-python",
   "name": "python",
   "nbconvert_exporter": "python",
   "pygments_lexer": "ipython3",
   "version": "3.9.5"
  }
 },
 "nbformat": 4,
 "nbformat_minor": 5
}
