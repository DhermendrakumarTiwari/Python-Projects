{
 "cells": [
  {
   "cell_type": "code",
   "execution_count": 1,
   "id": "b91b6399",
   "metadata": {},
   "outputs": [
    {
     "name": "stdout",
     "output_type": "stream",
     "text": [
      "third element 3\n",
      "An Erroe occurred\n"
     ]
    }
   ],
   "source": [
    "array=[1,2,3,4,5,6]\n",
    "try:\n",
    "    print('third element',(array[2]))\n",
    "    print('eighth element',(array[7]))\n",
    "except IndexError:\n",
    "    print(\"An Erroe occurred\")"
   ]
  },
  {
   "cell_type": "code",
   "execution_count": 3,
   "id": "344791d3",
   "metadata": {},
   "outputs": [
    {
     "name": "stdout",
     "output_type": "stream",
     "text": [
      "enter the first num:12\n",
      "enter the second num:3\n",
      "4.0\n",
      "division done!\n"
     ]
    }
   ],
   "source": [
    "try:\n",
    "    a=int(input(\"enter the first num:\"))\n",
    "    b=int(input(\"enter the second num:\"))\n",
    "    c=a/b\n",
    "    print(c)\n",
    "except ZeroDivisionError:\n",
    "    print(\"can not divide by zero\")\n",
    "else:\n",
    "    print('division done!')"
   ]
  },
  {
   "cell_type": "code",
   "execution_count": 6,
   "id": "c03c310c",
   "metadata": {},
   "outputs": [
    {
     "name": "stdout",
     "output_type": "stream",
     "text": [
      "enter the age:20\n",
      "age is valid\n"
     ]
    }
   ],
   "source": [
    "try:\n",
    "    age=int(input('enter the age:'))\n",
    "    if age<18:\n",
    "        raise ValueError;\n",
    "    else:\n",
    "        print('age is valid')\n",
    "except ValueError:\n",
    "    print('the age is not valid')"
   ]
  },
  {
   "cell_type": "code",
   "execution_count": 8,
   "id": "b16a93d1",
   "metadata": {},
   "outputs": [
    {
     "name": "stdout",
     "output_type": "stream",
     "text": [
      "Goedu\n"
     ]
    }
   ],
   "source": [
    "f=open('text.txt','r')\n",
    "print(f.read(5))\n",
    "f.close()"
   ]
  },
  {
   "cell_type": "code",
   "execution_count": 10,
   "id": "99249869",
   "metadata": {},
   "outputs": [
    {
     "name": "stdout",
     "output_type": "stream",
     "text": [
      "Goeduhub Technology\n"
     ]
    }
   ],
   "source": [
    "f=open('text.txt','r')\n",
    "for i in f:\n",
    "    print(i)"
   ]
  },
  {
   "cell_type": "code",
   "execution_count": 11,
   "id": "2486fc67",
   "metadata": {},
   "outputs": [],
   "source": [
    "f=open('text.txt','w')\n",
    "f.write('jaipur')\n",
    "f.close()"
   ]
  },
  {
   "cell_type": "code",
   "execution_count": 12,
   "id": "ecb32e56",
   "metadata": {},
   "outputs": [],
   "source": [
    "f=open('text.txt','a')\n",
    "f.write('302033,2222222,552622,789466,215512351')\n",
    "f.close()"
   ]
  },
  {
   "cell_type": "code",
   "execution_count": 19,
   "id": "48dfb77e",
   "metadata": {},
   "outputs": [],
   "source": [
    "os.mkdir(\"Introduction to Classes and Objects\")"
   ]
  },
  {
   "cell_type": "code",
   "execution_count": null,
   "id": "8e4915f2",
   "metadata": {},
   "outputs": [],
   "source": []
  }
 ],
 "metadata": {
  "kernelspec": {
   "display_name": "Python 3",
   "language": "python",
   "name": "python3"
  },
  "language_info": {
   "codemirror_mode": {
    "name": "ipython",
    "version": 3
   },
   "file_extension": ".py",
   "mimetype": "text/x-python",
   "name": "python",
   "nbconvert_exporter": "python",
   "pygments_lexer": "ipython3",
   "version": "3.9.5"
  }
 },
 "nbformat": 4,
 "nbformat_minor": 5
}
