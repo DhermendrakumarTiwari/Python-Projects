{
 "cells": [
  {
   "cell_type": "code",
   "execution_count": 3,
   "id": "0fbd88ba",
   "metadata": {},
   "outputs": [
    {
     "name": "stdout",
     "output_type": "stream",
     "text": [
      "Enter your age:25\n",
      "The age is: 25\n",
      "1806212820016\n",
      "<class 'int'>\n"
     ]
    }
   ],
   "source": [
    "a=int(input('Enter your age:'))\n",
    "print(\"The age is:\",a)\n",
    "print(id(a))\n",
    "print(type(a))"
   ]
  },
  {
   "cell_type": "code",
   "execution_count": 4,
   "id": "a6dd08c0",
   "metadata": {},
   "outputs": [
    {
     "name": "stdout",
     "output_type": "stream",
     "text": [
      "Dhermendra\n",
      "The input string is: Dhermendra\n",
      "<class 'str'>\n"
     ]
    }
   ],
   "source": [
    "inputstring=input()\n",
    "print('The input string is:',inputstring)\n",
    "print(type(inputstring))"
   ]
  },
  {
   "cell_type": "code",
   "execution_count": 6,
   "id": "674b8856",
   "metadata": {},
   "outputs": [
    {
     "name": "stdout",
     "output_type": "stream",
     "text": [
      "8\n"
     ]
    }
   ],
   "source": [
    "print(pow(2,3))"
   ]
  },
  {
   "cell_type": "code",
   "execution_count": 7,
   "id": "48331078",
   "metadata": {},
   "outputs": [
    {
     "name": "stdout",
     "output_type": "stream",
     "text": [
      "99\n"
     ]
    }
   ],
   "source": [
    "print(ord('c'))"
   ]
  },
  {
   "cell_type": "code",
   "execution_count": 8,
   "id": "212223a2",
   "metadata": {},
   "outputs": [
    {
     "name": "stdout",
     "output_type": "stream",
     "text": [
      "0o12\n"
     ]
    }
   ],
   "source": [
    "print(oct(10))"
   ]
  },
  {
   "cell_type": "markdown",
   "id": "5388a016",
   "metadata": {},
   "source": [
    "# Modules in Python"
   ]
  },
  {
   "cell_type": "code",
   "execution_count": 9,
   "id": "fb5baa02",
   "metadata": {},
   "outputs": [
    {
     "data": {
      "text/plain": [
       "['__doc__',\n",
       " '__loader__',\n",
       " '__name__',\n",
       " '__package__',\n",
       " '__spec__',\n",
       " 'acos',\n",
       " 'acosh',\n",
       " 'asin',\n",
       " 'asinh',\n",
       " 'atan',\n",
       " 'atan2',\n",
       " 'atanh',\n",
       " 'ceil',\n",
       " 'comb',\n",
       " 'copysign',\n",
       " 'cos',\n",
       " 'cosh',\n",
       " 'degrees',\n",
       " 'dist',\n",
       " 'e',\n",
       " 'erf',\n",
       " 'erfc',\n",
       " 'exp',\n",
       " 'expm1',\n",
       " 'fabs',\n",
       " 'factorial',\n",
       " 'floor',\n",
       " 'fmod',\n",
       " 'frexp',\n",
       " 'fsum',\n",
       " 'gamma',\n",
       " 'gcd',\n",
       " 'hypot',\n",
       " 'inf',\n",
       " 'isclose',\n",
       " 'isfinite',\n",
       " 'isinf',\n",
       " 'isnan',\n",
       " 'isqrt',\n",
       " 'lcm',\n",
       " 'ldexp',\n",
       " 'lgamma',\n",
       " 'log',\n",
       " 'log10',\n",
       " 'log1p',\n",
       " 'log2',\n",
       " 'modf',\n",
       " 'nan',\n",
       " 'nextafter',\n",
       " 'perm',\n",
       " 'pi',\n",
       " 'pow',\n",
       " 'prod',\n",
       " 'radians',\n",
       " 'remainder',\n",
       " 'sin',\n",
       " 'sinh',\n",
       " 'sqrt',\n",
       " 'tan',\n",
       " 'tanh',\n",
       " 'tau',\n",
       " 'trunc',\n",
       " 'ulp']"
      ]
     },
     "execution_count": 9,
     "metadata": {},
     "output_type": "execute_result"
    }
   ],
   "source": [
    "import math\n",
    "dir(math)"
   ]
  },
  {
   "cell_type": "code",
   "execution_count": 10,
   "id": "bb6ca4c8",
   "metadata": {},
   "outputs": [
    {
     "name": "stdout",
     "output_type": "stream",
     "text": [
      "16.0\n"
     ]
    }
   ],
   "source": [
    "print(math.sqrt(256))"
   ]
  },
  {
   "cell_type": "code",
   "execution_count": 11,
   "id": "67bdbc55",
   "metadata": {},
   "outputs": [
    {
     "data": {
      "text/plain": [
       "3.141592653589793"
      ]
     },
     "execution_count": 11,
     "metadata": {},
     "output_type": "execute_result"
    }
   ],
   "source": [
    "math.pi"
   ]
  },
  {
   "cell_type": "code",
   "execution_count": 12,
   "id": "358699e5",
   "metadata": {},
   "outputs": [
    {
     "name": "stdout",
     "output_type": "stream",
     "text": [
      "64.0\n"
     ]
    }
   ],
   "source": [
    "print(math.pow(4,3))"
   ]
  },
  {
   "cell_type": "code",
   "execution_count": 13,
   "id": "f31d2290",
   "metadata": {},
   "outputs": [
    {
     "name": "stdout",
     "output_type": "stream",
     "text": [
      "0.9560342718892494\n",
      "0.9478274870593494\n"
     ]
    }
   ],
   "source": [
    "import random\n",
    "random.seed(2)\n",
    "print(random.random())\n",
    "print(random.random())"
   ]
  },
  {
   "cell_type": "code",
   "execution_count": 14,
   "id": "91eeaa4e",
   "metadata": {},
   "outputs": [
    {
     "name": "stdout",
     "output_type": "stream",
     "text": [
      "Enter your name:dhermendra\n",
      "print on screen dhermendra\n"
     ]
    }
   ],
   "source": [
    "a=input(\"Enter your name:\")\n",
    "print(\"print on screen\",a)"
   ]
  },
  {
   "cell_type": "code",
   "execution_count": 16,
   "id": "af1b34fd",
   "metadata": {},
   "outputs": [
    {
     "data": {
      "text/plain": [
       "['Calendar',\n",
       " 'EPOCH',\n",
       " 'FRIDAY',\n",
       " 'February',\n",
       " 'HTMLCalendar',\n",
       " 'IllegalMonthError',\n",
       " 'IllegalWeekdayError',\n",
       " 'January',\n",
       " 'LocaleHTMLCalendar',\n",
       " 'LocaleTextCalendar',\n",
       " 'MONDAY',\n",
       " 'SATURDAY',\n",
       " 'SUNDAY',\n",
       " 'THURSDAY',\n",
       " 'TUESDAY',\n",
       " 'TextCalendar',\n",
       " 'WEDNESDAY',\n",
       " '_EPOCH_ORD',\n",
       " '__all__',\n",
       " '__builtins__',\n",
       " '__cached__',\n",
       " '__doc__',\n",
       " '__file__',\n",
       " '__loader__',\n",
       " '__name__',\n",
       " '__package__',\n",
       " '__spec__',\n",
       " '_colwidth',\n",
       " '_locale',\n",
       " '_localized_day',\n",
       " '_localized_month',\n",
       " '_monthlen',\n",
       " '_nextmonth',\n",
       " '_prevmonth',\n",
       " '_spacing',\n",
       " 'c',\n",
       " 'calendar',\n",
       " 'datetime',\n",
       " 'day_abbr',\n",
       " 'day_name',\n",
       " 'different_locale',\n",
       " 'error',\n",
       " 'firstweekday',\n",
       " 'format',\n",
       " 'formatstring',\n",
       " 'isleap',\n",
       " 'leapdays',\n",
       " 'main',\n",
       " 'mdays',\n",
       " 'month',\n",
       " 'month_abbr',\n",
       " 'month_name',\n",
       " 'monthcalendar',\n",
       " 'monthrange',\n",
       " 'prcal',\n",
       " 'prmonth',\n",
       " 'prweek',\n",
       " 'repeat',\n",
       " 'setfirstweekday',\n",
       " 'sys',\n",
       " 'timegm',\n",
       " 'week',\n",
       " 'weekday',\n",
       " 'weekheader']"
      ]
     },
     "execution_count": 16,
     "metadata": {},
     "output_type": "execute_result"
    }
   ],
   "source": [
    "import calendar\n",
    "dir(calendar)"
   ]
  },
  {
   "cell_type": "code",
   "execution_count": 17,
   "id": "4ced4e65",
   "metadata": {},
   "outputs": [
    {
     "name": "stdout",
     "output_type": "stream",
     "text": [
      "    January 2016\n",
      "Mo Tu We Th Fr Sa Su\n",
      "             1  2  3\n",
      " 4  5  6  7  8  9 10\n",
      "11 12 13 14 15 16 17\n",
      "18 19 20 21 22 23 24\n",
      "25 26 27 28 29 30 31\n",
      "\n"
     ]
    }
   ],
   "source": [
    "c=calendar.month(2016,1)\n",
    "print(c)"
   ]
  },
  {
   "cell_type": "code",
   "execution_count": 18,
   "id": "b59aa417",
   "metadata": {},
   "outputs": [
    {
     "name": "stdout",
     "output_type": "stream",
     "text": [
      "False\n"
     ]
    }
   ],
   "source": [
    "c=calendar.isleap(2021)\n",
    "print(c)"
   ]
  },
  {
   "cell_type": "code",
   "execution_count": 19,
   "id": "ef9747c3",
   "metadata": {},
   "outputs": [
    {
     "name": "stdout",
     "output_type": "stream",
     "text": [
      "0    a\n",
      "1    v\n",
      "2    e\n",
      "3    f\n",
      "dtype: object\n"
     ]
    }
   ],
   "source": [
    "import pandas as pd\n",
    "a=['a','v','e','f']\n",
    "df=pd.Series(a)\n",
    "print(df)"
   ]
  },
  {
   "cell_type": "markdown",
   "id": "d2923069",
   "metadata": {},
   "source": [
    "# Palindrome in python"
   ]
  },
  {
   "cell_type": "code",
   "execution_count": 20,
   "id": "a0914f5f",
   "metadata": {},
   "outputs": [
    {
     "name": "stdout",
     "output_type": "stream",
     "text": [
      "palindrome\n",
      "None\n"
     ]
    }
   ],
   "source": [
    "def pal(x):\n",
    "    x1 = x[::-1]\n",
    "    if x1 == x:\n",
    "        print('palindrome')\n",
    "    else:\n",
    "        print('not a palindrome')\n",
    "        \n",
    "print(pal('madam'))"
   ]
  },
  {
   "cell_type": "code",
   "execution_count": 21,
   "id": "81f07cda",
   "metadata": {},
   "outputs": [
    {
     "name": "stdout",
     "output_type": "stream",
     "text": [
      "not a palindrome\n",
      "None\n"
     ]
    }
   ],
   "source": [
    "def pal(x):\n",
    "    x1 = x[::-1]\n",
    "    if x1 == x:\n",
    "        print('palindrome')\n",
    "    else:\n",
    "        print('not a palindrome')\n",
    "        \n",
    "print(pal('python'))"
   ]
  },
  {
   "cell_type": "markdown",
   "id": "bc020ca4",
   "metadata": {},
   "source": [
    "# Factorial Program in Python"
   ]
  },
  {
   "cell_type": "markdown",
   "id": "8f8372f5",
   "metadata": {},
   "source": [
    "product of the integer desending"
   ]
  },
  {
   "cell_type": "code",
   "execution_count": 25,
   "id": "da71a7ac",
   "metadata": {},
   "outputs": [
    {
     "name": "stdout",
     "output_type": "stream",
     "text": [
      "Enter a value5\n",
      "120\n"
     ]
    }
   ],
   "source": [
    "def factorial(n):\n",
    "  fact=1\n",
    "  for i in range(1,n+1):\n",
    "    fact=fact*i\n",
    "  return fact\n",
    "num=int(input(\"Enter a value\"))\n",
    "result=factorial(num)\n",
    "print(result)"
   ]
  },
  {
   "cell_type": "markdown",
   "id": "589c2983",
   "metadata": {},
   "source": [
    "# Fibonacci Series Program in Python"
   ]
  },
  {
   "cell_type": "markdown",
   "id": "f9151801",
   "metadata": {},
   "source": [
    "next term generated is the sum of preceding two terms"
   ]
  },
  {
   "cell_type": "code",
   "execution_count": 26,
   "id": "07afa3d9",
   "metadata": {},
   "outputs": [
    {
     "name": "stdout",
     "output_type": "stream",
     "text": [
      "Enter the number of elements:5\n",
      "Enter the first element:1\n",
      "Enter the second element:2\n",
      "1 2 3 5 8 "
     ]
    }
   ],
   "source": [
    "n=int(input(\"Enter the number of elements:\"))\n",
    "a=int(input(\"Enter the first element:\"))\n",
    "b=int(input(\"Enter the second element:\"))\n",
    "print(a,b,end=\" \")\n",
    "while n-2:\n",
    "    c=a+b\n",
    "    a=b\n",
    "    b=c\n",
    "    print(c,end=\" \")\n",
    "    n=n-1"
   ]
  },
  {
   "cell_type": "markdown",
   "id": "2c175ac4",
   "metadata": {},
   "source": [
    "# Armstrong Number Program in Python"
   ]
  },
  {
   "cell_type": "code",
   "execution_count": 27,
   "id": "edad09ab",
   "metadata": {},
   "outputs": [
    {
     "name": "stdout",
     "output_type": "stream",
     "text": [
      "Enter the number:153\n",
      "153 is a armstrong number\n"
     ]
    }
   ],
   "source": [
    "num=int(input(\"Enter the number:\"))\n",
    "sum=0\n",
    "temp=num\n",
    "while temp>0:\n",
    "    digit=temp%10\n",
    "    sum+=digit**3\n",
    "    temp//=10\n",
    "if num==sum:\n",
    "    print(num,\"is a armstrong number\")\n",
    "else:\n",
    "    print(num,\"is not a armstrong number\")"
   ]
  },
  {
   "cell_type": "code",
   "execution_count": 28,
   "id": "bb3ced48",
   "metadata": {},
   "outputs": [
    {
     "name": "stdout",
     "output_type": "stream",
     "text": [
      "Enter the number:123\n",
      "123 is not a armstrong number\n"
     ]
    }
   ],
   "source": [
    "num=int(input(\"Enter the number:\"))\n",
    "sum=0\n",
    "temp=num\n",
    "while temp>0:\n",
    "    digit=temp%10\n",
    "    sum+=digit**3\n",
    "    temp//=10\n",
    "if num==sum:\n",
    "    print(num,\"is a armstrong number\")\n",
    "else:\n",
    "    print(num,\"is not a armstrong number\")"
   ]
  },
  {
   "cell_type": "markdown",
   "id": "f95faa50",
   "metadata": {},
   "source": [
    "# Python program to check odd/even"
   ]
  },
  {
   "cell_type": "code",
   "execution_count": 29,
   "id": "2f245395",
   "metadata": {},
   "outputs": [
    {
     "name": "stdout",
     "output_type": "stream",
     "text": [
      "Enter the number:12\n",
      "12 is a even number.\n"
     ]
    }
   ],
   "source": [
    "num=int(input(\"Enter the number:\"))\n",
    "if(num%2==0):\n",
    "    print(num,\"is a even number.\")\n",
    "else:\n",
    "    print(num,\"is a odd number.\")"
   ]
  },
  {
   "cell_type": "code",
   "execution_count": 30,
   "id": "d788f458",
   "metadata": {},
   "outputs": [
    {
     "name": "stdout",
     "output_type": "stream",
     "text": [
      "Enter the number:13\n",
      "13 is a odd number.\n"
     ]
    }
   ],
   "source": [
    "num=int(input(\"Enter the number:\"))\n",
    "if(num%2==0):\n",
    "    print(num,\"is a even number.\")\n",
    "else:\n",
    "    print(num,\"is a odd number.\")"
   ]
  },
  {
   "cell_type": "markdown",
   "id": "f6f8461c",
   "metadata": {},
   "source": [
    "# Python program to check leap year"
   ]
  },
  {
   "cell_type": "code",
   "execution_count": 31,
   "id": "661c7c11",
   "metadata": {},
   "outputs": [
    {
     "name": "stdout",
     "output_type": "stream",
     "text": [
      "Enter the year:1997\n",
      "not a leap year\n"
     ]
    }
   ],
   "source": [
    "y=int(input(\"Enter the year:\"))\n",
    "if(y%4==0):\n",
    "    if(y%100==0):\n",
    "        if(y%400==0):\n",
    "            print(\"leap year\")\n",
    "        else:\n",
    "            print(\"not a leap year\")\n",
    "    else:\n",
    "        print(\"not a leap year\")\n",
    "else:\n",
    "    print(\"not a leap year\")"
   ]
  },
  {
   "cell_type": "code",
   "execution_count": 32,
   "id": "e36cdd7d",
   "metadata": {},
   "outputs": [
    {
     "name": "stdout",
     "output_type": "stream",
     "text": [
      "Enter the year:1990\n",
      "not a leap year\n"
     ]
    }
   ],
   "source": [
    "y=int(input(\"Enter the year:\"))\n",
    "if(y%4==0):\n",
    "    if(y%100==0):\n",
    "        if(y%400==0):\n",
    "            print(\"leap year\")\n",
    "        else:\n",
    "            print(\"not a leap year\")\n",
    "    else:\n",
    "        print(\"not a leap year\")\n",
    "else:\n",
    "    print(\"not a leap year\")"
   ]
  },
  {
   "cell_type": "code",
   "execution_count": 34,
   "id": "e657bbbe",
   "metadata": {},
   "outputs": [
    {
     "name": "stdout",
     "output_type": "stream",
     "text": [
      "Enter the year:2000\n",
      "leap year\n"
     ]
    }
   ],
   "source": [
    "y=int(input(\"Enter the year:\"))\n",
    "if(y%4==0):\n",
    "    if(y%100==0):\n",
    "        if(y%400==0):\n",
    "            print(\"leap year\")\n",
    "        else:\n",
    "            print(\"not a leap year\")\n",
    "    else:\n",
    "        print(\"not a leap year\")\n",
    "else:\n",
    "    print(\"not a leap year\")"
   ]
  },
  {
   "cell_type": "markdown",
   "id": "21f57550",
   "metadata": {},
   "source": [
    "# Python Program to check prime number"
   ]
  },
  {
   "cell_type": "code",
   "execution_count": 36,
   "id": "35958d8b",
   "metadata": {},
   "outputs": [
    {
     "name": "stdout",
     "output_type": "stream",
     "text": [
      "Enter the number:7\n",
      "7 is a prime number.\n"
     ]
    }
   ],
   "source": [
    "num=int(input(\"Enter the number:\"))\n",
    "if num>1:\n",
    "    for i in range(2,num):\n",
    "        if(num%i==0):\n",
    "            print(num,\"is not a prime number .\")\n",
    "            print(num,\"times\",num//i,\"is\",num)\n",
    "            break\n",
    "    else:\n",
    "            print(num,\"is a prime number.\")\n",
    "else:\n",
    "    print(num,\"is not a prime number..\")\n",
    "    "
   ]
  },
  {
   "cell_type": "code",
   "execution_count": 37,
   "id": "ae45a191",
   "metadata": {},
   "outputs": [
    {
     "name": "stdout",
     "output_type": "stream",
     "text": [
      "Enter the number:6\n",
      "6 is not a prime number .\n",
      "6 times 3 is 6\n"
     ]
    }
   ],
   "source": [
    "num=int(input(\"Enter the number:\"))\n",
    "if num>1:\n",
    "    for i in range(2,num):\n",
    "        if(num%i==0):\n",
    "            print(num,\"is not a prime number .\")\n",
    "            print(num,\"times\",num//i,\"is\",num)\n",
    "            break\n",
    "    else:\n",
    "            print(num,\"is a prime number.\")\n",
    "else:\n",
    "    print(num,\"is not a prime number..\")"
   ]
  },
  {
   "cell_type": "markdown",
   "id": "eeda9cb6",
   "metadata": {},
   "source": [
    "# python Program to print areas of shapes "
   ]
  },
  {
   "cell_type": "code",
   "execution_count": 39,
   "id": "5c28d4ae",
   "metadata": {},
   "outputs": [
    {
     "name": "stdout",
     "output_type": "stream",
     "text": [
      "78.53981633974483\n",
      "216\n",
      "471.23889803846896\n"
     ]
    }
   ],
   "source": [
    "import math\n",
    "pi=math.pi\n",
    "def circle(r):\n",
    "    return pi*r**2\n",
    "def cube(s):\n",
    "    return 6*s**2\n",
    "def cylinder(r,h):\n",
    "    return 2*pi*r*h+2*pi*r**2\n",
    "print(circle(5))\n",
    "print(cube(6))\n",
    "print(cylinder(5,10))"
   ]
  },
  {
   "cell_type": "markdown",
   "id": "dfdda984",
   "metadata": {},
   "source": [
    "# Print Program to Reverse a list"
   ]
  },
  {
   "cell_type": "code",
   "execution_count": 40,
   "id": "0a8d22c8",
   "metadata": {},
   "outputs": [
    {
     "name": "stdout",
     "output_type": "stream",
     "text": [
      "[17, 86, 15, 78, 12, 1]\n"
     ]
    }
   ],
   "source": [
    "list=[1,12,78,15,86,17]\n",
    "print(list[::-1])"
   ]
  },
  {
   "cell_type": "code",
   "execution_count": 41,
   "id": "b5b8766b",
   "metadata": {},
   "outputs": [
    {
     "name": "stdout",
     "output_type": "stream",
     "text": [
      "['afr', 'xyz', 'abc']\n"
     ]
    }
   ],
   "source": [
    "list=['abc','xyz','afr']\n",
    "list.reverse()\n",
    "print(list)"
   ]
  },
  {
   "cell_type": "code",
   "execution_count": null,
   "id": "f3ce923d",
   "metadata": {},
   "outputs": [],
   "source": []
  }
 ],
 "metadata": {
  "kernelspec": {
   "display_name": "Python 3",
   "language": "python",
   "name": "python3"
  },
  "language_info": {
   "codemirror_mode": {
    "name": "ipython",
    "version": 3
   },
   "file_extension": ".py",
   "mimetype": "text/x-python",
   "name": "python",
   "nbconvert_exporter": "python",
   "pygments_lexer": "ipython3",
   "version": "3.9.5"
  }
 },
 "nbformat": 4,
 "nbformat_minor": 5
}
